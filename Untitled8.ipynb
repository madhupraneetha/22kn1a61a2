{
  "nbformat": 4,
  "nbformat_minor": 0,
  "metadata": {
    "colab": {
      "provenance": [],
      "gpuType": "T4",
      "authorship_tag": "ABX9TyMes/CPM5o+tdwWvFTsqAgX",
      "include_colab_link": true
    },
    "kernelspec": {
      "name": "python3",
      "display_name": "Python 3"
    },
    "language_info": {
      "name": "python"
    },
    "accelerator": "GPU"
  },
  "cells": [
    {
      "cell_type": "markdown",
      "metadata": {
        "id": "view-in-github",
        "colab_type": "text"
      },
      "source": [
        "<a href=\"https://colab.research.google.com/github/madhupraneetha/22kn1a61a2/blob/main/Untitled8.ipynb\" target=\"_parent\"><img src=\"https://colab.research.google.com/assets/colab-badge.svg\" alt=\"Open In Colab\"/></a>"
      ]
    },
    {
      "cell_type": "code",
      "execution_count": 2,
      "metadata": {
        "colab": {
          "base_uri": "https://localhost:8080/"
        },
        "id": "Ly61pOaS9HrH",
        "outputId": "7cbd84b1-7717-4c03-a273-68c10f348742"
      },
      "outputs": [
        {
          "output_type": "stream",
          "name": "stdout",
          "text": [
            "                                               tweet  Unnamed: 1  Unnamed: 2  \\\n",
            "0  Tailored from soft, breathable fabrics—typical...         NaN         NaN   \n",
            "1  💪LIMITED TIME DEAL – 81% OFF!\\n\\nRED TAPE Men’...         NaN         NaN   \n",
            "2  So now @Flipkart is charging \\nProtect promise...         NaN         NaN   \n",
            "3  SONY WF-C710N Noise Cancellation Wireless Earb...         NaN         NaN   \n",
            "4  SONY WF-C710N Noise Cancellation Wireless Earb...         NaN         NaN   \n",
            "\n",
            "   Unnamed: 3  Unnamed: 4  Unnamed: 5  Unnamed: 6  Unnamed: 7  Unnamed: 8  \\\n",
            "0         NaN         NaN         NaN         NaN         NaN         NaN   \n",
            "1         NaN         NaN         NaN         NaN         NaN         NaN   \n",
            "2         NaN         NaN         NaN         NaN         NaN         NaN   \n",
            "3         NaN         NaN         NaN         NaN         NaN         NaN   \n",
            "4         NaN         NaN         NaN         NaN         NaN         NaN   \n",
            "\n",
            "   Unnamed: 9  ...  Unnamed: 19  Unnamed: 20  Unnamed: 21  Unnamed: 22  \\\n",
            "0         NaN  ...          NaN          NaN          NaN          NaN   \n",
            "1         NaN  ...          NaN          NaN          NaN          NaN   \n",
            "2         NaN  ...          NaN          NaN          NaN          NaN   \n",
            "3         NaN  ...          NaN          NaN          NaN          NaN   \n",
            "4         NaN  ...          NaN          NaN          NaN          NaN   \n",
            "\n",
            "   Unnamed: 23  Unnamed: 24  Unnamed: 25  Unnamed: 26  Unnamed: 27  label  \n",
            "0          NaN          NaN          NaN          NaN          NaN   spam  \n",
            "1          NaN          NaN          NaN          NaN          NaN   spam  \n",
            "2          NaN          NaN          NaN          NaN          NaN   spam  \n",
            "3          NaN          NaN          NaN          NaN          NaN   spam  \n",
            "4          NaN          NaN          NaN          NaN          NaN   spam  \n",
            "\n",
            "[5 rows x 29 columns]\n",
            "✅ Accuracy: 0.7\n",
            "\n",
            "📊 Classification Report:\n",
            "               precision    recall  f1-score   support\n",
            "\n",
            "    not spam       0.40      1.00      0.57         2\n",
            "        spam       1.00      0.62      0.77         8\n",
            "\n",
            "    accuracy                           0.70        10\n",
            "   macro avg       0.70      0.81      0.67        10\n",
            "weighted avg       0.88      0.70      0.73        10\n",
            "\n"
          ]
        }
      ],
      "source": [
        "import pandas as pd\n",
        "from sklearn.feature_extraction.text import CountVectorizer\n",
        "from sklearn.model_selection import train_test_split\n",
        "from sklearn.naive_bayes import MultinomialNB\n",
        "from sklearn.metrics import accuracy_score, classification_report\n",
        "\n",
        "# Step 1: Load your labeled tweet file\n",
        "df = pd.read_csv(\"/content/flipkart_tweets.csv\")\n",
        "\n",
        "# Step 2: Check first few rows\n",
        "print(df.head())\n",
        "\n",
        "# Step 3: Split data into text (X) and label (y)\n",
        "X = df['tweet']\n",
        "y = df['label']\n",
        "\n",
        "# Step 4: Convert text into numbers using CountVectorizer\n",
        "vectorizer = CountVectorizer()\n",
        "X_vec = vectorizer.fit_transform(X)\n",
        "\n",
        "# Step 5: Split into training and testing sets\n",
        "X_train, X_test, y_train, y_test = train_test_split(X_vec, y, test_size=0.2, random_state=42)\n",
        "\n",
        "# Step 6: Train a Naive Bayes model\n",
        "model = MultinomialNB()\n",
        "model.fit(X_train, y_train)\n",
        "\n",
        "# Step 7: Make predictions\n",
        "y_pred = model.predict(X_test)\n",
        "\n",
        "# Step 8: Evaluate\n",
        "print(\"✅ Accuracy:\", accuracy_score(y_test, y_pred))\n",
        "print(\"\\n📊 Classification Report:\\n\", classification_report(y_test, y_pred))\n"
      ]
    },
    {
      "cell_type": "code",
      "source": [
        "# Load only two useful columns: 'tweet' and 'label'\n",
        "df = pd.read_csv(\"/content/flipkart_tweets.csv\", usecols=[\"tweet\", \"label\"])\n",
        "\n",
        "# Double-check\n",
        "print(df.head())\n",
        "print(\"✅ Cleaned and loaded only required columns.\")\n"
      ],
      "metadata": {
        "colab": {
          "base_uri": "https://localhost:8080/"
        },
        "id": "dezrFS6d_RyQ",
        "outputId": "162c73ed-5938-4a9b-f51c-0cbaa56e3d0f"
      },
      "execution_count": 3,
      "outputs": [
        {
          "output_type": "stream",
          "name": "stdout",
          "text": [
            "                                               tweet label\n",
            "0  Tailored from soft, breathable fabrics—typical...  spam\n",
            "1  💪LIMITED TIME DEAL – 81% OFF!\\n\\nRED TAPE Men’...  spam\n",
            "2  So now @Flipkart is charging \\nProtect promise...  spam\n",
            "3  SONY WF-C710N Noise Cancellation Wireless Earb...  spam\n",
            "4  SONY WF-C710N Noise Cancellation Wireless Earb...  spam\n",
            "✅ Cleaned and loaded only required columns.\n"
          ]
        }
      ]
    },
    {
      "cell_type": "code",
      "source": [
        "# Load messy file\n",
        "with open(\"/content/flipkart_tweets.csv\", \"r\") as file:\n",
        "    lines = file.readlines()\n",
        "\n",
        "tweets = []\n",
        "current_tweet = \"\"\n",
        "\n",
        "for line in lines:\n",
        "    if line.strip() == \"\":  # Empty line = end of tweet\n",
        "        if current_tweet:\n",
        "            tweets.append(current_tweet.strip())\n",
        "            current_tweet = \"\"\n",
        "    else:\n",
        "        current_tweet += \" \" + line.strip()\n",
        "\n",
        "# Convert to DataFrame\n",
        "import pandas as pd\n",
        "df = pd.DataFrame(tweets, columns=[\"tweet\"])\n",
        "df[\"label\"] = \"\"  # You can fill labels manually\n",
        "df.to_csv(\"flipkart_fixed.csv\", index=False)\n",
        "print(\"✅ Tweets reconstructed and saved.\")\n"
      ],
      "metadata": {
        "colab": {
          "base_uri": "https://localhost:8080/"
        },
        "id": "0ueUygiNAbPI",
        "outputId": "e67c4cd1-f130-4d3d-e51b-d2a3a7d7bb96"
      },
      "execution_count": 4,
      "outputs": [
        {
          "output_type": "stream",
          "name": "stdout",
          "text": [
            "✅ Tweets reconstructed and saved.\n"
          ]
        }
      ]
    },
    {
      "cell_type": "code",
      "source": [
        "# Try a new message\n",
        "new_tweet = [\"Congratulations! You've won a Flipkart voucher!\"]\n",
        "new_tweet_vec = vectorizer.transform(new_tweet)\n",
        "prediction = model.predict(new_tweet_vec)\n",
        "\n",
        "print(\"🔍 Prediction:\", prediction[0])\n"
      ],
      "metadata": {
        "colab": {
          "base_uri": "https://localhost:8080/"
        },
        "id": "Ik_oELqDBqkX",
        "outputId": "a58534b7-edc7-4060-cd34-4761d1971fcd"
      },
      "execution_count": 5,
      "outputs": [
        {
          "output_type": "stream",
          "name": "stdout",
          "text": [
            "🔍 Prediction: spam\n"
          ]
        }
      ]
    },
    {
      "cell_type": "code",
      "source": [
        "test_msgs = [\n",
        "    \"Track your Flipkart order here.\",\n",
        "    \"LIMITED TIME OFFER! Win a free iPhone!\",\n",
        "    \"Thank you Flipkart for delivering quickly.\",\n",
        "    \"Only today: Buy one, get one free!\"\n",
        "]\n",
        "\n",
        "for msg in test_msgs:\n",
        "    vec = vectorizer.transform([msg])\n",
        "    result = model.predict(vec)\n",
        "    print(f\"📩 {msg} → Prediction: {result[0]}\")\n"
      ],
      "metadata": {
        "colab": {
          "base_uri": "https://localhost:8080/"
        },
        "id": "VqBcspoFCD5d",
        "outputId": "e65f2d80-c1cb-4243-ca4e-9c2d0f9e64cf"
      },
      "execution_count": 6,
      "outputs": [
        {
          "output_type": "stream",
          "name": "stdout",
          "text": [
            "📩 Track your Flipkart order here. → Prediction: spam\n",
            "📩 LIMITED TIME OFFER! Win a free iPhone! → Prediction: spam\n",
            "📩 Thank you Flipkart for delivering quickly. → Prediction: spam\n",
            "📩 Only today: Buy one, get one free! → Prediction: spam\n"
          ]
        }
      ]
    }
  ]
}